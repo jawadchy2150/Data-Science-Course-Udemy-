{
 "cells": [
  {
   "cell_type": "markdown",
   "metadata": {},
   "source": [
    "### Assignment 1: Basic Logging\n",
    "1. Write a Python function to create a basic logger that logs messages to a file named `app.log`."
   ]
  },
  {
   "cell_type": "code",
   "execution_count": 11,
   "metadata": {},
   "outputs": [],
   "source": [
    "import logging\n",
    "def logger_creation():\n",
    "    logging.basicConfig(\n",
    "        filename=\"app1.log\",\n",
    "        filemode=\"w\",\n",
    "        level=logging.DEBUG\n",
    "    )"
   ]
  },
  {
   "cell_type": "markdown",
   "metadata": {},
   "source": [
    "2. Modify the function to log messages of levels: DEBUG, INFO, WARNING, ERROR, and CRITICAL."
   ]
  },
  {
   "cell_type": "code",
   "execution_count": 12,
   "metadata": {},
   "outputs": [],
   "source": [
    "import logging\n",
    "def logger_creation():\n",
    "    logging.basicConfig(\n",
    "        filename=\"app1.log\",\n",
    "        filemode=\"w\",\n",
    "        level=logging.DEBUG \n",
    "    )\n",
    "    logging.debug(\"This is a debug message\")\n",
    "    logging.info(\"This is an info message\")\n",
    "    logging.warning(\"This is a warning message\")\n",
    "    logging.error(\"This is an error message\")\n",
    "    logging.critical(\"This is a critical message\")\n",
    "\n",
    "logger_creation()"
   ]
  },
  {
   "cell_type": "markdown",
   "metadata": {},
   "source": [
    "### Assignment 2: Logging with Different Handlers\n",
    "1. Write a Python function to create a logger that logs messages to both a file named `app.log` and the console."
   ]
  },
  {
   "cell_type": "code",
   "execution_count": 13,
   "metadata": {},
   "outputs": [
    {
     "name": "stderr",
     "output_type": "stream",
     "text": [
      "2025-03-01 15:45:33,342 -my_logger - DEBUG- This is a debug message\n",
      "2025-03-01 15:45:33,342 -my_logger - DEBUG- This is a debug message\n",
      "2025-03-01 15:45:33,342 -my_logger - DEBUG- This is a debug message\n",
      "2025-03-01 15:45:33,345 -my_logger - INFO- This is an info message\n",
      "2025-03-01 15:45:33,345 -my_logger - INFO- This is an info message\n",
      "2025-03-01 15:45:33,345 -my_logger - INFO- This is an info message\n",
      "2025-03-01 15:45:33,347 -my_logger - WARNING- This is a warning message\n",
      "2025-03-01 15:45:33,347 -my_logger - WARNING- This is a warning message\n",
      "2025-03-01 15:45:33,347 -my_logger - WARNING- This is a warning message\n",
      "2025-03-01 15:45:33,351 -my_logger - ERROR- This is an error message\n",
      "2025-03-01 15:45:33,351 -my_logger - ERROR- This is an error message\n",
      "2025-03-01 15:45:33,351 -my_logger - ERROR- This is an error message\n",
      "2025-03-01 15:45:33,352 -my_logger - CRITICAL- This is a critical message\n",
      "2025-03-01 15:45:33,352 -my_logger - CRITICAL- This is a critical message\n",
      "2025-03-01 15:45:33,352 -my_logger - CRITICAL- This is a critical message\n"
     ]
    }
   ],
   "source": [
    "def logger_with_handlers():\n",
    "    logger = logging.getLogger(\"my_logger\")\n",
    "    logger.setLevel(logging.DEBUG)\n",
    "\n",
    "    fileHandler = logging.FileHandler(\"app1.log\")\n",
    "    consoleHandler = logging.StreamHandler()\n",
    "\n",
    "    fileHandler.setLevel(logging.DEBUG)\n",
    "    consoleHandler.setLevel(logging.DEBUG)\n",
    "\n",
    "    formatter = logging.Formatter('%(asctime)s -%(name)s - %(levelname)s- %(message)s')\n",
    "    fileHandler.setFormatter(formatter)\n",
    "    consoleHandler.setFormatter(formatter)\n",
    "\n",
    "    logger.addHandler(fileHandler)\n",
    "    logger.addHandler(consoleHandler)\n",
    "\n",
    "    logger.debug('This is a debug message')\n",
    "    logger.info('This is an info message')\n",
    "    logger.warning('This is a warning message')\n",
    "    logger.error('This is an error message')\n",
    "    logger.critical('This is a critical message')\n",
    "\n",
    "logger_with_handlers()"
   ]
  },
  {
   "cell_type": "markdown",
   "metadata": {},
   "source": [
    "2. Modify the function to use different logging levels for the file and console handlers."
   ]
  },
  {
   "cell_type": "code",
   "execution_count": null,
   "metadata": {},
   "outputs": [],
   "source": [
    "#already done in the previous one"
   ]
  },
  {
   "cell_type": "markdown",
   "metadata": {},
   "source": [
    "### Assignment 3: Formatting Log Messages\n",
    "1. Write a Python function to create a logger with a custom log message format that includes the timestamp, logging level, and message."
   ]
  },
  {
   "cell_type": "code",
   "execution_count": 15,
   "metadata": {},
   "outputs": [
    {
     "name": "stderr",
     "output_type": "stream",
     "text": [
      "2025-03-01 16:10:12,471 -DEBUG- This is a debug message\n",
      "2025-03-01 16:10:12,472 -INFO- This is an info message\n",
      "2025-03-01 16:10:12,472 -WARNING- This is a warning message\n",
      "2025-03-01 16:10:12,474 -ERROR- This is an error message\n",
      "2025-03-01 16:10:12,474 -CRITICAL- This is a critical message\n"
     ]
    }
   ],
   "source": [
    "def custom_logger():\n",
    "    logger = logging.getLogger(\"custom_logger\")\n",
    "    logger.setLevel(logging.DEBUG)\n",
    "\n",
    "    fileHandler = logging.FileHandler(\"app3.log\")\n",
    "    consoleHandler = logging.StreamHandler()\n",
    "\n",
    "    fileHandler.setLevel(logging.DEBUG)\n",
    "    consoleHandler.setLevel(logging.DEBUG)\n",
    "\n",
    "    formatter = logging.Formatter('%(asctime)s -%(levelname)s- %(message)s')\n",
    "    fileHandler.setFormatter(formatter)\n",
    "    consoleHandler.setFormatter(formatter)\n",
    "\n",
    "    logger.addHandler(fileHandler)\n",
    "    logger.addHandler(consoleHandler)\n",
    "\n",
    "    logger.debug('This is a debug message')\n",
    "    logger.info('This is an info message')\n",
    "    logger.warning('This is a warning message')\n",
    "    logger.error('This is an error message')\n",
    "    logger.critical('This is a critical message')\n",
    "\n",
    "custom_logger()\n",
    "\n",
    "    "
   ]
  },
  {
   "cell_type": "markdown",
   "metadata": {},
   "source": [
    "2. Modify the function to use different formats for the file and console handlers."
   ]
  },
  {
   "cell_type": "code",
   "execution_count": 16,
   "metadata": {},
   "outputs": [
    {
     "name": "stderr",
     "output_type": "stream",
     "text": [
      "2025-03-01 16:10:55,501 - DEBUG - This is a debug message\n",
      "2025-03-01 16:10:55,503 - INFO - This is an info message\n",
      "2025-03-01 16:10:55,504 - WARNING - This is a warning message\n",
      "2025-03-01 16:10:55,505 - ERROR - This is an error message\n",
      "2025-03-01 16:10:55,506 - CRITICAL - This is a critical message\n"
     ]
    }
   ],
   "source": [
    "def logger_with_different_formats():\n",
    "    logger = logging.getLogger('multi_format_logger')\n",
    "    logger.setLevel(logging.DEBUG)\n",
    "    \n",
    "    file_handler = logging.FileHandler('multi_format_app.log')\n",
    "    console_handler = logging.StreamHandler()\n",
    "    \n",
    "    file_formatter = logging.Formatter('%(asctime)s - %(name)s - %(levelname)s - %(message)s')\n",
    "    console_formatter = logging.Formatter('%(asctime)s - %(levelname)s - %(message)s')\n",
    "    file_handler.setFormatter(file_formatter)\n",
    "    console_handler.setFormatter(console_formatter)\n",
    "    \n",
    "    logger.addHandler(file_handler)\n",
    "    logger.addHandler(console_handler)\n",
    "    \n",
    "    logger.debug('This is a debug message')\n",
    "    logger.info('This is an info message')\n",
    "    logger.warning('This is a warning message')\n",
    "    logger.error('This is an error message')\n",
    "    logger.critical('This is a critical message')\n",
    "\n",
    "# Test the function\n",
    "logger_with_different_formats()"
   ]
  },
  {
   "cell_type": "markdown",
   "metadata": {},
   "source": [
    "### Assignment 4: Rotating Log Files\n",
    "1. Write a Python function to create a logger that uses a rotating file handler, which creates a new log file when the current log file reaches a certain size."
   ]
  },
  {
   "cell_type": "code",
   "execution_count": 19,
   "metadata": {},
   "outputs": [],
   "source": [
    "from logging.handlers import RotatingFileHandler\n",
    "\n",
    "def logger_with_rotating_log():\n",
    "    logger = logging.getLogger('rotating_logger')\n",
    "    logger.setLevel(logging.DEBUG)\n",
    "\n",
    "    rotatingFileHandler = RotatingFileHandler('rotating_app.log', maxBytes=2000, backupCount=5)\n",
    "    formatter = logging.Formatter('%(asctime)s - %(name)s - %(levelname)s - %(message)s')\n",
    "    rotatingFileHandler.setFormatter(formatter)\n",
    "\n",
    "    logger.addHandler(rotatingFileHandler)\n",
    "\n",
    "    for i in range(100):\n",
    "        logger.debug('This is debug message number {}'.format(i))\n",
    "    \n",
    "logger_with_rotating_log()"
   ]
  },
  {
   "cell_type": "markdown",
   "metadata": {},
   "source": [
    "2. Modify the function to keep a specified number of backup log files."
   ]
  },
  {
   "cell_type": "code",
   "execution_count": null,
   "metadata": {},
   "outputs": [],
   "source": [
    "#already done in the previous one"
   ]
  },
  {
   "cell_type": "markdown",
   "metadata": {},
   "source": [
    "### Assignment 5: Logging Exceptions\n",
    "1. Write a Python function that logs an exception stack trace to a log file when an exception occurs."
   ]
  },
  {
   "cell_type": "code",
   "execution_count": 20,
   "metadata": {},
   "outputs": [],
   "source": [
    "def log_exception():\n",
    "    logger = logging.getLogger('exception_logger')\n",
    "    logger.setLevel(logging.ERROR)\n",
    "    \n",
    "    file_handler = logging.FileHandler('exception_app.log')\n",
    "    formatter = logging.Formatter('%(asctime)s - %(name)s - %(levelname)s - %(message)s')\n",
    "    file_handler.setFormatter(formatter)\n",
    "    \n",
    "    logger.addHandler(file_handler)\n",
    "\n",
    "    try:\n",
    "        1/0\n",
    "    except Exception as e:\n",
    "        logger.exception(\"Exception occured\")\n",
    "    \n",
    "log_exception()"
   ]
  },
  {
   "cell_type": "markdown",
   "metadata": {},
   "source": [
    "2. Modify the function to log the stack trace at the ERROR level."
   ]
  },
  {
   "cell_type": "code",
   "execution_count": null,
   "metadata": {},
   "outputs": [],
   "source": [
    "#already done in the previous one"
   ]
  },
  {
   "cell_type": "markdown",
   "metadata": {},
   "source": [
    "### Assignment 6: Contextual Logging\n",
    "1. Write a Python function to create a logger that includes contextual information (e.g., function name, line number) in the log messages."
   ]
  },
  {
   "cell_type": "code",
   "execution_count": 21,
   "metadata": {},
   "outputs": [],
   "source": [
    "def logger_with_context():\n",
    "    logger = logging.getLogger('context_logger')\n",
    "    logger.setLevel(logging.DEBUG)\n",
    "    \n",
    "    file_handler = logging.FileHandler('context_app.log')\n",
    "    formatter = logging.Formatter('%(asctime)s - %(name)s - %(levelname)s - %(message)s - %(funcName)s - %(lineno)d')\n",
    "    file_handler.setFormatter(formatter)\n",
    "    \n",
    "    logger.addHandler(file_handler)\n",
    "    \n",
    "    def test_func():\n",
    "        logger.debug('This is a debug message')\n",
    "        logger.info('This is an info message')\n",
    "        logger.warning('This is a warning message')\n",
    "        logger.error('This is an error message')\n",
    "        logger.critical('This is a critical message')\n",
    "    \n",
    "    test_func()\n",
    "\n",
    "# Test the function\n",
    "logger_with_context()"
   ]
  },
  {
   "cell_type": "markdown",
   "metadata": {},
   "source": [
    "2. Modify the function to include additional contextual information (e.g., user ID, session ID)."
   ]
  },
  {
   "cell_type": "code",
   "execution_count": 22,
   "metadata": {},
   "outputs": [],
   "source": [
    "def logger_with_additional_context(user_id, session_id):\n",
    "    logger = logging.getLogger('additional_context_logger')\n",
    "    logger.setLevel(logging.DEBUG)\n",
    "    \n",
    "    file_handler = logging.FileHandler('additional_context_app.log')\n",
    "    formatter = logging.Formatter('%(asctime)s - %(name)s - %(levelname)s - %(message)s - %(funcName)s - %(lineno)d - UserID: %(user_id)s - SessionID: %(session_id)s')\n",
    "    file_handler.setFormatter(formatter)\n",
    "    \n",
    "    logger.addHandler(file_handler)\n",
    "    \n",
    "    extra = {'user_id': user_id, 'session_id': session_id}\n",
    "    \n",
    "    def test_func():\n",
    "        logger.debug('This is a debug message', extra=extra)\n",
    "        logger.info('This is an info message', extra=extra)\n",
    "        logger.warning('This is a warning message', extra=extra)\n",
    "        logger.error('This is an error message', extra=extra)\n",
    "        logger.critical('This is a critical message', extra=extra)\n",
    "    \n",
    "    test_func()\n",
    "\n",
    "# Test the function\n",
    "logger_with_additional_context('user123', 'session456')"
   ]
  }
 ],
 "metadata": {
  "kernelspec": {
   "display_name": "Python 3",
   "language": "python",
   "name": "python3"
  },
  "language_info": {
   "codemirror_mode": {
    "name": "ipython",
    "version": 3
   },
   "file_extension": ".py",
   "mimetype": "text/x-python",
   "name": "python",
   "nbconvert_exporter": "python",
   "pygments_lexer": "ipython3",
   "version": "3.12.0"
  }
 },
 "nbformat": 4,
 "nbformat_minor": 2
}
