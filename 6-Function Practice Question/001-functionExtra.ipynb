{
 "cells": [
  {
   "cell_type": "markdown",
   "id": "899e02c1",
   "metadata": {},
   "source": [
    "### 008 Maximum Difference between 2 consecutive elements in a List"
   ]
  },
  {
   "cell_type": "code",
   "execution_count": 4,
   "id": "75580cc3",
   "metadata": {},
   "outputs": [
    {
     "name": "stdout",
     "output_type": "stream",
     "text": [
      "12\n"
     ]
    }
   ],
   "source": [
    "def max_diff(lst):\n",
    "    if(len(lst)<2):\n",
    "        return 0\n",
    "\n",
    "    count = 0\n",
    "    for i in range(len(lst)-1):\n",
    "        if abs(lst[i]-lst[i+1])>count:\n",
    "            count = abs(lst[i]-lst[i+1])\n",
    "    return count\n",
    "print(max_diff([10, 11, 15, 3]))"
   ]
  },
  {
   "cell_type": "markdown",
   "id": "6836f129",
   "metadata": {},
   "source": [
    "### 009 Merge two sorted List"
   ]
  },
  {
   "cell_type": "code",
   "execution_count": 8,
   "id": "31d00f5b",
   "metadata": {},
   "outputs": [
    {
     "name": "stdout",
     "output_type": "stream",
     "text": [
      "[1, 2, 3, 4, 5, 7, 8]\n"
     ]
    }
   ],
   "source": [
    "def merge_sort_list(lst1, lst2):\n",
    "    merged_list = lst1 + lst2;\n",
    "    return sorted(merged_list)\n",
    "\n",
    "print(merge_sort_list([1, 4, 7],[2, 3, 5, 8] ))"
   ]
  },
  {
   "cell_type": "markdown",
   "id": "de0160c7",
   "metadata": {},
   "source": [
    "### 011 Merge 2 list into Dictionary"
   ]
  },
  {
   "cell_type": "code",
   "execution_count": 13,
   "id": "e4e29c1f",
   "metadata": {},
   "outputs": [
    {
     "name": "stdout",
     "output_type": "stream",
     "text": [
      "{1: 4, 2: 5, 3: 6}\n"
     ]
    }
   ],
   "source": [
    "def merge_lists_to_dictionary(lst1, lst2):\n",
    "    merged_dict = {}\n",
    "    for i in range(len(lst1)):\n",
    "            merged_dict[lst1[i]] = lst2[i]\n",
    "    return merged_dict\n",
    "print(merge_lists_to_dictionary([1,2,3], [4,5,6]))      "
   ]
  },
  {
   "cell_type": "markdown",
   "id": "a5b1bf51",
   "metadata": {},
   "source": [
    "### 013 Words Frequency in a Sentence\n",
    "Design a Python function named count_word_frequency to count the frequency of words in a sentence and store the counts in a dictionary."
   ]
  },
  {
   "cell_type": "code",
   "execution_count": 14,
   "id": "fb7d9e61",
   "metadata": {},
   "outputs": [
    {
     "name": "stdout",
     "output_type": "stream",
     "text": [
      "{'hello': 2, 'world': 2, 'my': 1, 'is': 1, 'around': 1, 'jubu': 1}\n"
     ]
    }
   ],
   "source": [
    "def count_word_frequency(sentence):\n",
    "    words = sentence.lower().split()\n",
    "    word_count = {}\n",
    "    for word in words:\n",
    "        word = word.strip(\".,!?\")\n",
    "        word_count[word] = word_count.get(word, 0) +1\n",
    "    return word_count\n",
    "\n",
    "print(count_word_frequency(\"hello world, my world is around hello Jubu\"))"
   ]
  }
 ],
 "metadata": {
  "kernelspec": {
   "display_name": "Python 3",
   "language": "python",
   "name": "python3"
  },
  "language_info": {
   "codemirror_mode": {
    "name": "ipython",
    "version": 3
   },
   "file_extension": ".py",
   "mimetype": "text/x-python",
   "name": "python",
   "nbconvert_exporter": "python",
   "pygments_lexer": "ipython3",
   "version": "3.12.0"
  }
 },
 "nbformat": 4,
 "nbformat_minor": 5
}
