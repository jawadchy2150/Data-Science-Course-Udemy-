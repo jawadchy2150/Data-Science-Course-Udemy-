{
 "cells": [
  {
   "cell_type": "markdown",
   "metadata": {},
   "source": [
    "### Assignment 1: DataFrame Creation and Indexing\n",
    "1. Create a Pandas DataFrame with 4 columns and 6 rows filled with random integers. Set the index to be the first column."
   ]
  },
  {
   "cell_type": "code",
   "execution_count": 7,
   "metadata": {},
   "outputs": [
    {
     "name": "stdout",
     "output_type": "stream",
     "text": [
      "    A  B   C\n",
      "ID          \n",
      "4   7  2  10\n",
      "8   1  5  10\n",
      "4   1  1  10\n",
      "9   8  4   7\n",
      "8   3  6  10\n",
      "3   6  2   7\n"
     ]
    }
   ],
   "source": [
    "import pandas as pd\n",
    "import numpy as np\n",
    "\n",
    "data_frame = pd.DataFrame(np.random.randint(1,11, size=(6,4)), columns=['ID', 'A', 'B', 'C'])\n",
    "data_frame.set_index('ID', inplace=True)\n",
    "print(data_frame)"
   ]
  },
  {
   "cell_type": "markdown",
   "metadata": {},
   "source": [
    "2. Create a Pandas DataFrame with columns 'A', 'B', 'C' and index 'X', 'Y', 'Z'. Fill the DataFrame with random integers and access the element at row 'Y' and column 'B'."
   ]
  },
  {
   "cell_type": "code",
   "execution_count": 17,
   "metadata": {},
   "outputs": [
    {
     "name": "stdout",
     "output_type": "stream",
     "text": [
      "   A  B   C\n",
      "X  9  3   5\n",
      "Y  1  2  10\n",
      "Z  7  7   8\n",
      "2\n"
     ]
    }
   ],
   "source": [
    "data_frame = pd.DataFrame(np.random.randint(1,11, size=(3,3)), columns=['A', 'B', 'C'], index=['X', 'Y', 'Z'])\n",
    "print(data_frame)\n",
    "print(data_frame.at['Y','B'])"
   ]
  },
  {
   "cell_type": "markdown",
   "metadata": {},
   "source": [
    "### Assignment 2: DataFrame Operations\n",
    "1. Create a Pandas DataFrame with 3 columns and 5 rows filled with random integers. Add a new column that is the product of the first two columns."
   ]
  },
  {
   "cell_type": "code",
   "execution_count": 20,
   "metadata": {},
   "outputs": [
    {
     "name": "stdout",
     "output_type": "stream",
     "text": [
      "    A   B  C\n",
      "0   4   8  4\n",
      "1  10   7  6\n",
      "2   9   1  7\n",
      "3   3   2  2\n",
      "4   6  10  2\n",
      "    A   B  C   D\n",
      "0   4   8  4  32\n",
      "1  10   7  6  70\n",
      "2   9   1  7   9\n",
      "3   3   2  2   6\n",
      "4   6  10  2  60\n"
     ]
    }
   ],
   "source": [
    "data_frame = pd.DataFrame(np.random.randint(1,11, size=(5,3)), columns=['A', 'B', 'C'])\n",
    "print(data_frame)\n",
    "data_frame['D'] = data_frame['A'] * data_frame['B']\n",
    "print(data_frame)"
   ]
  },
  {
   "cell_type": "markdown",
   "metadata": {},
   "source": [
    "2. Create a Pandas DataFrame with 3 columns and 4 rows filled with random integers. Compute the row-wise and column-wise sum."
   ]
  },
  {
   "cell_type": "code",
   "execution_count": 22,
   "metadata": {},
   "outputs": [
    {
     "name": "stdout",
     "output_type": "stream",
     "text": [
      "    A  B  C\n",
      "0  10  6  6\n",
      "1   2  3  3\n",
      "2   8  1  3\n",
      "3   7  3  9\n",
      "A    27\n",
      "B    13\n",
      "C    21\n",
      "dtype: int64\n",
      "0    22\n",
      "1     8\n",
      "2    12\n",
      "3    19\n",
      "dtype: int64\n"
     ]
    }
   ],
   "source": [
    "data_frame = pd.DataFrame(np.random.randint(1,11, size=(4,3)), columns=['A', 'B', 'C'])\n",
    "\n",
    "print(data_frame)\n",
    "print(data_frame.sum(axis=0))\n",
    "print(data_frame.sum(axis=1))"
   ]
  },
  {
   "cell_type": "markdown",
   "metadata": {},
   "source": [
    "### Assignment 3: Data Cleaning\n",
    "1. Create a Pandas DataFrame with 3 columns and 5 rows filled with random integers. Introduce some NaN values. Fill the NaN values with the mean of the respective columns."
   ]
  },
  {
   "cell_type": "code",
   "execution_count": 29,
   "metadata": {},
   "outputs": [
    {
     "name": "stdout",
     "output_type": "stream",
     "text": [
      "    A  B  C\n",
      "0   6  7  9\n",
      "1  10  5  9\n",
      "2   3  6  2\n",
      "3   8  8  1\n",
      "4   3  8  3\n",
      "    A    B  C\n",
      "0   6  NaN  9\n",
      "1  10  5.0  9\n",
      "2   3  6.0  2\n",
      "3   8  8.0  1\n",
      "4   3  8.0  3\n",
      "    A     B  C\n",
      "0   6  6.75  9\n",
      "1  10  5.00  9\n",
      "2   3  6.00  2\n",
      "3   8  8.00  1\n",
      "4   3  8.00  3\n"
     ]
    }
   ],
   "source": [
    "data_frame = pd.DataFrame(np.random.randint(1,11, size=(5,3)), columns=['A', 'B', 'C'])\n",
    "print(data_frame)\n",
    "\n",
    "data_frame.iloc[0,1] = np.nan\n",
    "print(data_frame)\n",
    "data_frame.fillna(data_frame.mean(), inplace=True)\n",
    "print(data_frame)"
   ]
  },
  {
   "cell_type": "markdown",
   "metadata": {},
   "source": [
    "2. Create a Pandas DataFrame with 4 columns and 6 rows filled with random integers. Introduce some NaN values. Drop the rows with any NaN values."
   ]
  },
  {
   "cell_type": "code",
   "execution_count": 30,
   "metadata": {},
   "outputs": [
    {
     "name": "stdout",
     "output_type": "stream",
     "text": [
      "    A     B    C\n",
      "0   6  6.75  9.0\n",
      "1  10  5.00  NaN\n",
      "2   3  6.00  2.0\n",
      "3   8  8.00  1.0\n",
      "4   3  8.00  3.0\n",
      "   A     B    C\n",
      "0  6  6.75  9.0\n",
      "2  3  6.00  2.0\n",
      "3  8  8.00  1.0\n",
      "4  3  8.00  3.0\n"
     ]
    }
   ],
   "source": [
    "data_frame.iloc[1,2] = np.nan\n",
    "print(data_frame)\n",
    "data_frame.dropna(inplace=True)\n",
    "print(data_frame)"
   ]
  }
 ],
 "metadata": {
  "kernelspec": {
   "display_name": "Python 3",
   "language": "python",
   "name": "python3"
  },
  "language_info": {
   "codemirror_mode": {
    "name": "ipython",
    "version": 3
   },
   "file_extension": ".py",
   "mimetype": "text/x-python",
   "name": "python",
   "nbconvert_exporter": "python",
   "pygments_lexer": "ipython3",
   "version": "3.12.0"
  }
 },
 "nbformat": 4,
 "nbformat_minor": 2
}
