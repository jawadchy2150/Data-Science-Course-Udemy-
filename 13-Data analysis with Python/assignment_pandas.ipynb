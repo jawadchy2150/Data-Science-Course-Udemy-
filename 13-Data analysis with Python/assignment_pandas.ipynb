{
 "cells": [
  {
   "cell_type": "markdown",
   "metadata": {},
   "source": [
    "### Assignment 1: DataFrame Creation and Indexing\n",
    "1. Create a Pandas DataFrame with 4 columns and 6 rows filled with random integers. Set the index to be the first column."
   ]
  },
  {
   "cell_type": "code",
   "execution_count": 2,
   "metadata": {},
   "outputs": [
    {
     "name": "stdout",
     "output_type": "stream",
     "text": [
      "     A  B  C\n",
      "ID          \n",
      "6    3  3  2\n",
      "2   10  3  3\n",
      "6    5  1  7\n",
      "7    1  1  1\n",
      "5    9  6  1\n",
      "3    3  2  6\n"
     ]
    }
   ],
   "source": [
    "import pandas as pd\n",
    "import numpy as np\n",
    "\n",
    "data_frame = pd.DataFrame(np.random.randint(1,11, size=(6,4)), columns=['ID', 'A', 'B', 'C'])\n",
    "data_frame.set_index('ID', inplace=True)\n",
    "print(data_frame)"
   ]
  },
  {
   "cell_type": "markdown",
   "metadata": {},
   "source": [
    "2. Create a Pandas DataFrame with columns 'A', 'B', 'C' and index 'X', 'Y', 'Z'. Fill the DataFrame with random integers and access the element at row 'Y' and column 'B'."
   ]
  },
  {
   "cell_type": "code",
   "execution_count": 17,
   "metadata": {},
   "outputs": [
    {
     "name": "stdout",
     "output_type": "stream",
     "text": [
      "   A  B   C\n",
      "X  9  3   5\n",
      "Y  1  2  10\n",
      "Z  7  7   8\n",
      "2\n"
     ]
    }
   ],
   "source": [
    "data_frame = pd.DataFrame(np.random.randint(1,11, size=(3,3)), columns=['A', 'B', 'C'], index=['X', 'Y', 'Z'])\n",
    "print(data_frame)\n",
    "print(data_frame.at['Y','B'])"
   ]
  },
  {
   "cell_type": "markdown",
   "metadata": {},
   "source": [
    "### Assignment 2: DataFrame Operations\n",
    "1. Create a Pandas DataFrame with 3 columns and 5 rows filled with random integers. Add a new column that is the product of the first two columns."
   ]
  },
  {
   "cell_type": "code",
   "execution_count": 20,
   "metadata": {},
   "outputs": [
    {
     "name": "stdout",
     "output_type": "stream",
     "text": [
      "    A   B  C\n",
      "0   4   8  4\n",
      "1  10   7  6\n",
      "2   9   1  7\n",
      "3   3   2  2\n",
      "4   6  10  2\n",
      "    A   B  C   D\n",
      "0   4   8  4  32\n",
      "1  10   7  6  70\n",
      "2   9   1  7   9\n",
      "3   3   2  2   6\n",
      "4   6  10  2  60\n"
     ]
    }
   ],
   "source": [
    "data_frame = pd.DataFrame(np.random.randint(1,11, size=(5,3)), columns=['A', 'B', 'C'])\n",
    "print(data_frame)\n",
    "data_frame['D'] = data_frame['A'] * data_frame['B']\n",
    "print(data_frame)"
   ]
  },
  {
   "cell_type": "markdown",
   "metadata": {},
   "source": [
    "2. Create a Pandas DataFrame with 3 columns and 4 rows filled with random integers. Compute the row-wise and column-wise sum."
   ]
  },
  {
   "cell_type": "code",
   "execution_count": 22,
   "metadata": {},
   "outputs": [
    {
     "name": "stdout",
     "output_type": "stream",
     "text": [
      "    A  B  C\n",
      "0  10  6  6\n",
      "1   2  3  3\n",
      "2   8  1  3\n",
      "3   7  3  9\n",
      "A    27\n",
      "B    13\n",
      "C    21\n",
      "dtype: int64\n",
      "0    22\n",
      "1     8\n",
      "2    12\n",
      "3    19\n",
      "dtype: int64\n"
     ]
    }
   ],
   "source": [
    "data_frame = pd.DataFrame(np.random.randint(1,11, size=(4,3)), columns=['A', 'B', 'C'])\n",
    "\n",
    "print(data_frame)\n",
    "print(data_frame.sum(axis=0))\n",
    "print(data_frame.sum(axis=1))"
   ]
  },
  {
   "cell_type": "markdown",
   "metadata": {},
   "source": [
    "### Assignment 3: Data Cleaning\n",
    "1. Create a Pandas DataFrame with 3 columns and 5 rows filled with random integers. Introduce some NaN values. Fill the NaN values with the mean of the respective columns."
   ]
  },
  {
   "cell_type": "code",
   "execution_count": 29,
   "metadata": {},
   "outputs": [
    {
     "name": "stdout",
     "output_type": "stream",
     "text": [
      "    A  B  C\n",
      "0   6  7  9\n",
      "1  10  5  9\n",
      "2   3  6  2\n",
      "3   8  8  1\n",
      "4   3  8  3\n",
      "    A    B  C\n",
      "0   6  NaN  9\n",
      "1  10  5.0  9\n",
      "2   3  6.0  2\n",
      "3   8  8.0  1\n",
      "4   3  8.0  3\n",
      "    A     B  C\n",
      "0   6  6.75  9\n",
      "1  10  5.00  9\n",
      "2   3  6.00  2\n",
      "3   8  8.00  1\n",
      "4   3  8.00  3\n"
     ]
    }
   ],
   "source": [
    "data_frame = pd.DataFrame(np.random.randint(1,11, size=(5,3)), columns=['A', 'B', 'C'])\n",
    "print(data_frame)\n",
    "\n",
    "data_frame.iloc[0,1] = np.nan\n",
    "print(data_frame)\n",
    "data_frame.fillna(data_frame.mean(), inplace=True)\n",
    "print(data_frame)"
   ]
  },
  {
   "cell_type": "markdown",
   "metadata": {},
   "source": [
    "2. Create a Pandas DataFrame with 4 columns and 6 rows filled with random integers. Introduce some NaN values. Drop the rows with any NaN values."
   ]
  },
  {
   "cell_type": "code",
   "execution_count": 30,
   "metadata": {},
   "outputs": [
    {
     "name": "stdout",
     "output_type": "stream",
     "text": [
      "    A     B    C\n",
      "0   6  6.75  9.0\n",
      "1  10  5.00  NaN\n",
      "2   3  6.00  2.0\n",
      "3   8  8.00  1.0\n",
      "4   3  8.00  3.0\n",
      "   A     B    C\n",
      "0  6  6.75  9.0\n",
      "2  3  6.00  2.0\n",
      "3  8  8.00  1.0\n",
      "4  3  8.00  3.0\n"
     ]
    }
   ],
   "source": [
    "data_frame.iloc[1,2] = np.nan\n",
    "print(data_frame)\n",
    "data_frame.dropna(inplace=True)\n",
    "print(data_frame)"
   ]
  },
  {
   "cell_type": "markdown",
   "metadata": {},
   "source": [
    "### Assignment 4: Data Aggregation\n",
    "1. Create a Pandas DataFrame with 2 columns: 'Category' and 'Value'. Fill the 'Category' column with random categories ('A', 'B', 'C') and the 'Value' column with random integers. Group the DataFrame by 'Category' and compute the sum and mean of 'Value' for each category.\n"
   ]
  },
  {
   "cell_type": "code",
   "execution_count": 4,
   "metadata": {},
   "outputs": [
    {
     "name": "stdout",
     "output_type": "stream",
     "text": [
      "  Category  Value\n",
      "0        C      3\n",
      "1        C      9\n",
      "2        A      2\n",
      "3        A      7\n",
      "4        C      1\n",
      "5        C      5\n",
      "6        C     10\n",
      "7        B      5\n",
      "8        A      8\n",
      "9        B      8\n",
      "          sum      mean\n",
      "Category               \n",
      "A          17  5.666667\n",
      "B          13  6.500000\n",
      "C          28  5.600000\n"
     ]
    }
   ],
   "source": [
    "data_frame = pd.DataFrame({'Category': np.random.choice(['A', 'B', 'C'], size=10), 'Value': np.random.randint(1,11, size=10)})\n",
    "print(data_frame)\n",
    "grouped_by = data_frame.groupby('Category')['Value'].agg(['sum', 'mean'])\n",
    "print(grouped_by)"
   ]
  },
  {
   "cell_type": "markdown",
   "metadata": {},
   "source": [
    "2. Create a Pandas DataFrame with 3 columns: 'Product', 'Category', and 'Sales'. Fill the DataFrame with random data. Group the DataFrame by 'Category' and compute the total sales for each category."
   ]
  },
  {
   "cell_type": "code",
   "execution_count": 7,
   "metadata": {},
   "outputs": [
    {
     "name": "stdout",
     "output_type": "stream",
     "text": [
      "  Product Category  Sales\n",
      "0   Prod2        C      7\n",
      "1   Prod2        A      5\n",
      "2   Prod1        A      6\n",
      "3   Prod1        A      2\n",
      "4   Prod2        B      4\n",
      "5   Prod2        A     10\n",
      "6   Prod2        C      1\n",
      "7   Prod1        B      5\n",
      "8   Prod2        A      1\n",
      "9   Prod1        A      5\n",
      "Category\n",
      "A    29\n",
      "B     9\n",
      "C     8\n",
      "Name: Sales, dtype: int32\n"
     ]
    }
   ],
   "source": [
    "data_frame = pd.DataFrame({'Product': np.random.choice(['Prod1', 'Prod2'], size=10), 'Category': np.random.choice(['A', 'B', 'C'], size=10), 'Sales': np.random.randint(1,11, size=10)})\n",
    "print(data_frame)\n",
    "\n",
    "grouped_by = data_frame.groupby('Category')['Sales'].sum()\n",
    "print(grouped_by)\n"
   ]
  },
  {
   "cell_type": "markdown",
   "metadata": {},
   "source": [
    "### Assignment 5: Merging DataFrames\n",
    "1. Create two Pandas DataFrames with a common column. Merge the DataFrames using the common column."
   ]
  },
  {
   "cell_type": "code",
   "execution_count": 8,
   "metadata": {},
   "outputs": [
    {
     "name": "stdout",
     "output_type": "stream",
     "text": [
      "DataFrame 1:\n",
      "  Key  Value1\n",
      "0   A      83\n",
      "1   B      44\n",
      "2   C      97\n",
      "3   D      86\n",
      "DataFrame 2:\n",
      "  Key  Value2\n",
      "0   A      93\n",
      "1   B      68\n",
      "2   C      58\n",
      "3   E      55\n",
      "Merged DataFrame:\n",
      "  Key  Value1  Value2\n",
      "0   A      83      93\n",
      "1   B      44      68\n",
      "2   C      97      58\n"
     ]
    }
   ],
   "source": [
    "# Create two Pandas DataFrames with a common column\n",
    "df1 = pd.DataFrame({'Key': ['A', 'B', 'C', 'D'], 'Value1': np.random.randint(1, 100, size=4)})\n",
    "df2 = pd.DataFrame({'Key': ['A', 'B', 'C', 'E'], 'Value2': np.random.randint(1, 100, size=4)})\n",
    "print(\"DataFrame 1:\")\n",
    "print(df1)\n",
    "print(\"DataFrame 2:\")\n",
    "print(df2)\n",
    "\n",
    "# Merge the DataFrames using the common column\n",
    "merged = pd.merge(df1, df2, on='Key')\n",
    "print(\"Merged DataFrame:\")\n",
    "print(merged)"
   ]
  },
  {
   "cell_type": "markdown",
   "metadata": {},
   "source": [
    "### Assignment 9: Applying Functions\n",
    "1. Create a Pandas DataFrame with 3 columns and 5 rows filled with random integers. Apply a function that doubles the values of the DataFrame."
   ]
  },
  {
   "cell_type": "code",
   "execution_count": 10,
   "metadata": {},
   "outputs": [
    {
     "name": "stdout",
     "output_type": "stream",
     "text": [
      "   A  B  C\n",
      "0  9  3  8\n",
      "1  6  2  4\n",
      "2  7  8  2\n",
      "3  8  5  4\n",
      "4  2  3  4\n",
      "    A   B   C\n",
      "0  81   9  64\n",
      "1  36   4  16\n",
      "2  49  64   4\n",
      "3  64  25  16\n",
      "4   4   9  16\n"
     ]
    },
    {
     "name": "stderr",
     "output_type": "stream",
     "text": [
      "C:\\Users\\Jawad\\AppData\\Local\\Temp\\ipykernel_12040\\52176882.py:3: FutureWarning: DataFrame.applymap has been deprecated. Use DataFrame.map instead.\n",
      "  data_frame_doubled = data_frame.applymap(lambda x: x**2)\n"
     ]
    }
   ],
   "source": [
    "data_frame = pd.DataFrame(np.random.randint(1, 11, size=(5, 3)), columns=['A', 'B', 'C'])\n",
    "print(data_frame)\n",
    "data_frame_doubled = data_frame.applymap(lambda x: x**2)\n",
    "print(data_frame_doubled)"
   ]
  },
  {
   "cell_type": "markdown",
   "metadata": {},
   "source": [
    "2. Create a Pandas DataFrame with 3 columns and 6 rows filled with random integers. Apply a lambda function to create a new column that is the sum of the existing columns."
   ]
  }
 ],
 "metadata": {
  "kernelspec": {
   "display_name": "Python 3",
   "language": "python",
   "name": "python3"
  },
  "language_info": {
   "codemirror_mode": {
    "name": "ipython",
    "version": 3
   },
   "file_extension": ".py",
   "mimetype": "text/x-python",
   "name": "python",
   "nbconvert_exporter": "python",
   "pygments_lexer": "ipython3",
   "version": "3.12.0"
  }
 },
 "nbformat": 4,
 "nbformat_minor": 2
}
