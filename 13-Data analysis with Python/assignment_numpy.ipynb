{
 "cells": [
  {
   "cell_type": "markdown",
   "metadata": {},
   "source": [
    "### Assignment 1: Array Creation and Manipulation\n",
    "1. Create a NumPy array of shape (5, 5) filled with random integers between 1 and 20. Replace all the elements in the third column with 1."
   ]
  },
  {
   "cell_type": "code",
   "execution_count": 2,
   "metadata": {},
   "outputs": [
    {
     "name": "stdout",
     "output_type": "stream",
     "text": [
      "[[ 1 15  1  6 19]\n",
      " [19 14  1  5 14]\n",
      " [10  2  1  4 14]\n",
      " [12 10  1 12 20]\n",
      " [16  6  1  5  9]]\n"
     ]
    }
   ],
   "source": [
    "import numpy as np\n",
    "\n",
    "arr = np.array([[1,2,3,4,5], [1,2,3,4,5], [1,2,3,4,5], [1,2,3,4,5], [1,2,3,4,5]])\n",
    "arr1= np.random.randint(1,21, size= (5,5))\n",
    "arr1[:,2] = 1\n",
    "\n",
    "print(arr1)"
   ]
  },
  {
   "cell_type": "markdown",
   "metadata": {},
   "source": [
    "2. Create a NumPy array of shape (4, 4) with values from 1 to 16. Replace the diagonal elements with 0."
   ]
  },
  {
   "cell_type": "code",
   "execution_count": 11,
   "metadata": {},
   "outputs": [
    {
     "name": "stdout",
     "output_type": "stream",
     "text": [
      "[[ 0  2  3  4]\n",
      " [ 5  0  7  8]\n",
      " [ 9 10  0 12]\n",
      " [13 14 15  0]]\n"
     ]
    }
   ],
   "source": [
    "arr2 = np.arange(1,17).reshape((4,4))\n",
    "np.fill_diagonal(arr2, 0)\n",
    "print(arr2)"
   ]
  },
  {
   "cell_type": "markdown",
   "metadata": {},
   "source": [
    "### Assignment 2: Array Indexing and Slicing\n",
    "1. Create a NumPy array of shape (6, 6) with values from 1 to 36. Extract the sub-array consisting of the 3rd to 5th rows and 2nd to 4th columns."
   ]
  },
  {
   "cell_type": "code",
   "execution_count": 6,
   "metadata": {},
   "outputs": [
    {
     "name": "stdout",
     "output_type": "stream",
     "text": [
      "[[21 22 23]\n",
      " [27 28 29]\n",
      " [33 34 35]]\n"
     ]
    }
   ],
   "source": [
    "arr3 = np.arange(1,37).reshape((6,6))\n",
    "print(arr3[3:, 2:5])"
   ]
  },
  {
   "cell_type": "markdown",
   "metadata": {},
   "source": [
    "2. Create a NumPy array of shape (5, 5) with random integers. Extract the elements on the border."
   ]
  },
  {
   "cell_type": "code",
   "execution_count": 9,
   "metadata": {},
   "outputs": [
    {
     "name": "stdout",
     "output_type": "stream",
     "text": [
      "[[18 11 19  1 12]\n",
      " [ 1  8  5  4  1]\n",
      " [10 23 20 15 13]\n",
      " [ 9  9 18 10 22]\n",
      " [24  8 17 23  5]]\n"
     ]
    }
   ],
   "source": [
    "arr4 = np.random.randint(1,25, size = (5,5))\n",
    "print(arr4)"
   ]
  },
  {
   "cell_type": "markdown",
   "metadata": {},
   "source": [
    "### Assignment 3: Array Operations\n",
    "1. Create two NumPy arrays of shape (3, 4) filled with random integers. Perform element-wise addition, subtraction, multiplication, and division."
   ]
  },
  {
   "cell_type": "code",
   "execution_count": 16,
   "metadata": {},
   "outputs": [
    {
     "name": "stdout",
     "output_type": "stream",
     "text": [
      "[[3 4 6 3]\n",
      " [1 4 5 7]\n",
      " [2 6 5 3]]\n"
     ]
    }
   ],
   "source": [
    "arr5 = np.random.randint(1,11, size=(3,4))\n",
    "arr6 = np.random.randint(1,11, size=(3,4))\n",
    "print(arr5)\n",
    "# print(arr5+arr6)"
   ]
  },
  {
   "cell_type": "markdown",
   "metadata": {},
   "source": [
    "2. Create a NumPy array of shape (4, 4) with values from 1 to 16. Compute the row-wise and column-wise sum."
   ]
  },
  {
   "cell_type": "code",
   "execution_count": 19,
   "metadata": {},
   "outputs": [
    {
     "name": "stdout",
     "output_type": "stream",
     "text": [
      "[16 17 16]\n",
      "[ 6 14 16 13]\n"
     ]
    }
   ],
   "source": [
    "row_sum = np.sum(arr5, axis=1)\n",
    "column_sum = np.sum(arr5, axis=0)\n",
    "print(row_sum)\n",
    "print(column_sum)"
   ]
  },
  {
   "cell_type": "markdown",
   "metadata": {},
   "source": [
    "### Assignment 4: Statistical Operations\n",
    "1. Create a NumPy array of shape (5, 5) filled with random integers. Compute the mean, median, standard deviation, and variance of the array."
   ]
  },
  {
   "cell_type": "code",
   "execution_count": 9,
   "metadata": {},
   "outputs": [
    {
     "name": "stdout",
     "output_type": "stream",
     "text": [
      "9.96 8.0 6.427939016512213 41.318400000000004\n"
     ]
    }
   ],
   "source": [
    "arr7 = np.random.randint(1,26, size=(5,5))\n",
    "mean = np.mean(arr7)\n",
    "median1 = np.median(arr7)\n",
    "standard_deviation = np.std(arr7)\n",
    "variance=  np.var(arr7)\n",
    "print(mean, median1, standard_deviation, variance)"
   ]
  },
  {
   "cell_type": "markdown",
   "metadata": {},
   "source": [
    "2. Create a NumPy array of shape (3, 3) with values from 1 to 9. Normalize the array (i.e., scale the values to have a mean of 0 and a standard deviation of 1)."
   ]
  },
  {
   "cell_type": "code",
   "execution_count": 14,
   "metadata": {},
   "outputs": [
    {
     "name": "stdout",
     "output_type": "stream",
     "text": [
      "[[-3.47019308 -3.08289474 -2.69559641]\n",
      " [-2.30829807 -1.92099974 -1.53370141]\n",
      " [-1.14640307 -0.75910474 -0.3718064 ]]\n"
     ]
    }
   ],
   "source": [
    "arr8 = np.arange(1,10).reshape((3,3))\n",
    "mean1 = np.mean(arr8)\n",
    "std1 = np.std(arr8)\n",
    "normalized_array = (arr8-mean)/std1\n",
    "print(normalized_array)"
   ]
  },
  {
   "cell_type": "markdown",
   "metadata": {},
   "source": [
    "### Assignment 5: Broadcasting\n",
    "1. Create a NumPy array of shape (3, 3) filled with random integers. Add a 1D array of shape (3,) to each row of the 2D array using broadcasting."
   ]
  },
  {
   "cell_type": "code",
   "execution_count": 16,
   "metadata": {},
   "outputs": [
    {
     "name": "stdout",
     "output_type": "stream",
     "text": [
      "[[2 7 9]\n",
      " [5 8 8]\n",
      " [1 8 5]]\n",
      "[4 1 4]\n",
      "[[ 6  8 13]\n",
      " [ 9  9 12]\n",
      " [ 5  9  9]]\n"
     ]
    }
   ],
   "source": [
    "arr9 = np.random.randint(1,10, size=(3,3))\n",
    "oned_array = np.random.randint(1,10, size=(3,))\n",
    "print(arr9)\n",
    "print(oned_array)\n",
    "print(arr9+oned_array)"
   ]
  },
  {
   "cell_type": "markdown",
   "metadata": {},
   "source": [
    "2. Create a NumPy array of shape (4, 4) filled with random integers. Subtract a 1D array of shape (4,) from each column of the 2D array using broadcasting."
   ]
  },
  {
   "cell_type": "markdown",
   "metadata": {},
   "source": [
    "### Assignment 6: Linear Algebra\n",
    "1. Create a NumPy array of shape (3, 3) representing a matrix. Compute its determinant, inverse, and eigenvalues."
   ]
  },
  {
   "cell_type": "code",
   "execution_count": 18,
   "metadata": {},
   "outputs": [
    {
     "name": "stdout",
     "output_type": "stream",
     "text": [
      "Determinant: -5.000000000000007\n",
      "Inverse: [[ 0.2  0.2 -0.6]\n",
      " [-0.4 -5.4 10.2]\n",
      " [ 0.2  4.2 -7.6]]\n",
      "Eigenvalues: [17.2794276   3.79678463 -0.07621223]\n"
     ]
    }
   ],
   "source": [
    "matrix = np.random.randint(1, 11, size=(3, 3))\n",
    "\n",
    "determinant = np.linalg.det(matrix)\n",
    "print(\"Determinant:\", determinant)\n",
    "\n",
    "inverse = np.linalg.inv(matrix)\n",
    "print(\"Inverse:\", inverse)\n",
    "\n",
    "eigenvalues = np.linalg.eigvals(matrix)\n",
    "print(\"Eigenvalues:\", eigenvalues)"
   ]
  },
  {
   "cell_type": "markdown",
   "metadata": {},
   "source": [
    "2. Create two NumPy arrays of shape (2, 3) and (3, 2). Perform matrix multiplication on these arrays."
   ]
  },
  {
   "cell_type": "code",
   "execution_count": 19,
   "metadata": {},
   "outputs": [
    {
     "name": "stdout",
     "output_type": "stream",
     "text": [
      "Matrix multiplication result:\n",
      "[[199  67]\n",
      " [125  60]]\n"
     ]
    }
   ],
   "source": [
    "array1 = np.random.randint(1, 11, size=(2, 3))\n",
    "array2 = np.random.randint(1, 11, size=(3, 2))\n",
    "\n",
    "# Perform matrix multiplication\n",
    "result = np.dot(array1, array2)\n",
    "print(\"Matrix multiplication result:\")\n",
    "print(result)"
   ]
  },
  {
   "cell_type": "markdown",
   "metadata": {},
   "source": [
    "### Assignment 7: Advanced Array Manipulation\n",
    "1. Create a NumPy array of shape (3, 3) with values from 1 to 9. Reshape the array to shape (1, 9) and then to shape (9, 1)."
   ]
  },
  {
   "cell_type": "code",
   "execution_count": 22,
   "metadata": {},
   "outputs": [
    {
     "name": "stdout",
     "output_type": "stream",
     "text": [
      "[[1 2 3 4 5 6 7 8 9]]\n"
     ]
    }
   ],
   "source": [
    "arr10 = np.arange(1,10).reshape(3,3)\n",
    "print(arr10.reshape(1,9))"
   ]
  },
  {
   "cell_type": "markdown",
   "metadata": {},
   "source": [
    "### Assignment 8: Fancy Indexing and Boolean Indexing\n",
    "1. Create a NumPy array of shape (5, 5) filled with random integers. Use fancy indexing to extract the elements at the corners of the array."
   ]
  },
  {
   "cell_type": "code",
   "execution_count": 24,
   "metadata": {},
   "outputs": [
    {
     "name": "stdout",
     "output_type": "stream",
     "text": [
      "[[ 8  8  1  6  2]\n",
      " [ 8  2 10 10  2]\n",
      " [ 4  8 10  6  5]\n",
      " [ 3 10  6  8  2]\n",
      " [ 1  8  6 10 10]]\n",
      "[ 8  2  1 10]\n"
     ]
    }
   ],
   "source": [
    "arr11 = np.random.randint(1,11, size=(5,5))\n",
    "print(arr11)\n",
    "print(arr11[[0,0,-1,-1],[0,-1,0,-1]])"
   ]
  },
  {
   "cell_type": "markdown",
   "metadata": {},
   "source": [
    "### Assignment 9: Structured Arrays\n",
    "1. Create a structured array with fields 'name' (string), 'age' (integer), and 'weight' (float). Add some data and sort the array by age."
   ]
  },
  {
   "cell_type": "code",
   "execution_count": 27,
   "metadata": {},
   "outputs": [
    {
     "name": "stdout",
     "output_type": "stream",
     "text": [
      "[('Jawad', 25, 66.6) ('Juhana', 24, 51.5) ('Areez',  7, 21.5)]\n",
      "[('Areez',  7, 21.5) ('Juhana', 24, 51.5) ('Jawad', 25, 66.6)]\n"
     ]
    }
   ],
   "source": [
    "data_type = [('Name', 'U10'),('Age', 'i4'), ('weight', 'f4')]\n",
    "structured_array = np.array([('Jawad', 25, 66.6), ('Juhana', 24, 51.5), ('Areez', 7, 21.5)], dtype=data_type)\n",
    "print(structured_array)\n",
    "sorted_array = np.sort(structured_array, order='Age')\n",
    "print(sorted_array)"
   ]
  },
  {
   "cell_type": "markdown",
   "metadata": {},
   "source": [
    "### Assignment 10: Masked Arrays\n",
    "1. Create a masked array of shape (4, 4) with random integers and mask the elements greater than 10. Compute the sum of the unmasked elements"
   ]
  },
  {
   "cell_type": "code",
   "execution_count": 29,
   "metadata": {},
   "outputs": [
    {
     "name": "stdout",
     "output_type": "stream",
     "text": [
      "[[11 12  9 13]\n",
      " [ 6 13  3  2]\n",
      " [11  8  2  9]\n",
      " [ 6  7  8 17]]\n",
      "[[-- -- 9 --]\n",
      " [6 -- 3 2]\n",
      " [-- 8 2 9]\n",
      " [6 7 8 --]]\n",
      "60\n"
     ]
    }
   ],
   "source": [
    "import numpy.ma as ma\n",
    "\n",
    "array3 = np.random.randint(1, 21, size=(4, 4))\n",
    "masked_array = ma.masked_greater(array3, 10)\n",
    "print(array3)\n",
    "print(masked_array)\n",
    "print(masked_array.sum())"
   ]
  }
 ],
 "metadata": {
  "kernelspec": {
   "display_name": "Python 3",
   "language": "python",
   "name": "python3"
  },
  "language_info": {
   "codemirror_mode": {
    "name": "ipython",
    "version": 3
   },
   "file_extension": ".py",
   "mimetype": "text/x-python",
   "name": "python",
   "nbconvert_exporter": "python",
   "pygments_lexer": "ipython3",
   "version": "3.12.0"
  }
 },
 "nbformat": 4,
 "nbformat_minor": 2
}
